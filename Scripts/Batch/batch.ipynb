{
 "cells": [
  {
   "cell_type": "code",
   "execution_count": 9,
   "metadata": {},
   "outputs": [
    {
     "name": "stdout",
     "output_type": "stream",
     "text": [
      "Requirement already satisfied: pandas in /Library/Frameworks/Python.framework/Versions/3.12/lib/python3.12/site-packages (2.2.3)\n",
      "Requirement already satisfied: openpyxl in /Library/Frameworks/Python.framework/Versions/3.12/lib/python3.12/site-packages (3.1.2)\n",
      "Requirement already satisfied: numpy>=1.26.0 in /Library/Frameworks/Python.framework/Versions/3.12/lib/python3.12/site-packages (from pandas) (1.26.4)\n",
      "Requirement already satisfied: python-dateutil>=2.8.2 in /Users/sandra/Library/Python/3.12/lib/python/site-packages (from pandas) (2.9.0.post0)\n",
      "Requirement already satisfied: pytz>=2020.1 in /Library/Frameworks/Python.framework/Versions/3.12/lib/python3.12/site-packages (from pandas) (2024.1)\n",
      "Requirement already satisfied: tzdata>=2022.7 in /Library/Frameworks/Python.framework/Versions/3.12/lib/python3.12/site-packages (from pandas) (2024.1)\n",
      "Requirement already satisfied: et-xmlfile in /Library/Frameworks/Python.framework/Versions/3.12/lib/python3.12/site-packages (from openpyxl) (1.1.0)\n",
      "Requirement already satisfied: six>=1.5 in /Users/sandra/Library/Python/3.12/lib/python/site-packages (from python-dateutil>=2.8.2->pandas) (1.16.0)\n",
      "\n",
      "\u001b[1m[\u001b[0m\u001b[34;49mnotice\u001b[0m\u001b[1;39;49m]\u001b[0m\u001b[39;49m A new release of pip is available: \u001b[0m\u001b[31;49m24.3.1\u001b[0m\u001b[39;49m -> \u001b[0m\u001b[32;49m25.0\u001b[0m\n",
      "\u001b[1m[\u001b[0m\u001b[34;49mnotice\u001b[0m\u001b[1;39;49m]\u001b[0m\u001b[39;49m To update, run: \u001b[0m\u001b[32;49mpip install --upgrade pip\u001b[0m\n"
     ]
    }
   ],
   "source": [
    "!pip install pandas openpyxl"
   ]
  },
  {
   "cell_type": "code",
   "execution_count": 10,
   "metadata": {},
   "outputs": [],
   "source": [
    "import openpyxl\n",
    "import pandas as pd\n",
    "import json\n",
    "import requests\n",
    "import os\n",
    "import time\n",
    "import re\n",
    "import openai\n",
    "from concurrent.futures import ThreadPoolExecutor"
   ]
  },
  {
   "cell_type": "code",
   "execution_count": 11,
   "metadata": {},
   "outputs": [],
   "source": [
    "from openai import OpenAI #estamos la clase concreta OpenAI del módulo openai\n",
    "from dotenv import load_dotenv #importamos una función concreta del módulo\n",
    "import os\n",
    "\n",
    "load_dotenv(\"template.env\")\n",
    "\n",
    "# Acceder a la clave de API de OpenAI\n",
    "api_key = os.getenv(\"OPENAI_API_KEY\")\n",
    "\n",
    "# Asegurarte de que la clave de API se haya cargado correctamente\n",
    "if api_key is None:\n",
    "    raise ValueError(\"La clave de API no está configurada en el archivo .env\")\n",
    "    \n",
    "client = OpenAI() #creando un objeto de la clase"
   ]
  },
  {
   "cell_type": "code",
   "execution_count": 12,
   "metadata": {},
   "outputs": [
    {
     "data": {
      "text/html": [
       "<div>\n",
       "<style scoped>\n",
       "    .dataframe tbody tr th:only-of-type {\n",
       "        vertical-align: middle;\n",
       "    }\n",
       "\n",
       "    .dataframe tbody tr th {\n",
       "        vertical-align: top;\n",
       "    }\n",
       "\n",
       "    .dataframe thead th {\n",
       "        text-align: right;\n",
       "    }\n",
       "</style>\n",
       "<table border=\"1\" class=\"dataframe\">\n",
       "  <thead>\n",
       "    <tr style=\"text-align: right;\">\n",
       "      <th></th>\n",
       "      <th>instruction</th>\n",
       "      <th>option_a</th>\n",
       "      <th>option_b</th>\n",
       "      <th>option_c</th>\n",
       "      <th>option_d</th>\n",
       "      <th>answer</th>\n",
       "      <th>id</th>\n",
       "    </tr>\n",
       "  </thead>\n",
       "  <tbody>\n",
       "    <tr>\n",
       "      <th>231</th>\n",
       "      <td>For which of these two scenarios does the main...</td>\n",
       "      <td>Wrong, Wrong</td>\n",
       "      <td>Wrong, Not wrong</td>\n",
       "      <td>Not wrong, Wrong</td>\n",
       "      <td>Not wrong, Not wrong</td>\n",
       "      <td>B</td>\n",
       "      <td>moral_scenarios_test</td>\n",
       "    </tr>\n",
       "    <tr>\n",
       "      <th>1386</th>\n",
       "      <td>What does the astronomical term ecliptic descr...</td>\n",
       "      <td>The path of the Sun in the sky throughout a year.</td>\n",
       "      <td>The axial tilt of the Earth throughout a year.</td>\n",
       "      <td>The movement of the stars due to Earth’s rotat...</td>\n",
       "      <td>The central line through the axis of rotation.</td>\n",
       "      <td>A</td>\n",
       "      <td>astronomy_test</td>\n",
       "    </tr>\n",
       "    <tr>\n",
       "      <th>10884</th>\n",
       "      <td>What is the prevalence of alcoholic myopathy i...</td>\n",
       "      <td>30 to 50%</td>\n",
       "      <td>40 to 60%</td>\n",
       "      <td>20 to 40%</td>\n",
       "      <td>10 to 30%</td>\n",
       "      <td>B</td>\n",
       "      <td>nutrition_test</td>\n",
       "    </tr>\n",
       "    <tr>\n",
       "      <th>8602</th>\n",
       "      <td>Given the following major premise, which of th...</td>\n",
       "      <td>\"I won't do well on the test\"</td>\n",
       "      <td>\"I won't take the test\"</td>\n",
       "      <td>\"My birthday is today\"</td>\n",
       "      <td>both A and B</td>\n",
       "      <td>A</td>\n",
       "      <td>logical_fallacies_test</td>\n",
       "    </tr>\n",
       "    <tr>\n",
       "      <th>7926</th>\n",
       "      <td>Ralph purchases garden fertilizer at the nearb...</td>\n",
       "      <td>Transferability</td>\n",
       "      <td>Complementarity</td>\n",
       "      <td>Intervening opportunity</td>\n",
       "      <td>Territoriality</td>\n",
       "      <td>C</td>\n",
       "      <td>high_school_geography_test</td>\n",
       "    </tr>\n",
       "  </tbody>\n",
       "</table>\n",
       "</div>"
      ],
      "text/plain": [
       "                                             instruction  \\\n",
       "231    For which of these two scenarios does the main...   \n",
       "1386   What does the astronomical term ecliptic descr...   \n",
       "10884  What is the prevalence of alcoholic myopathy i...   \n",
       "8602   Given the following major premise, which of th...   \n",
       "7926   Ralph purchases garden fertilizer at the nearb...   \n",
       "\n",
       "                                                option_a  \\\n",
       "231                                         Wrong, Wrong   \n",
       "1386   The path of the Sun in the sky throughout a year.   \n",
       "10884                                          30 to 50%   \n",
       "8602                       \"I won't do well on the test\"   \n",
       "7926                                     Transferability   \n",
       "\n",
       "                                             option_b  \\\n",
       "231                                  Wrong, Not wrong   \n",
       "1386   The axial tilt of the Earth throughout a year.   \n",
       "10884                                       40 to 60%   \n",
       "8602                          \"I won't take the test\"   \n",
       "7926                                  Complementarity   \n",
       "\n",
       "                                                option_c  \\\n",
       "231                                     Not wrong, Wrong   \n",
       "1386   The movement of the stars due to Earth’s rotat...   \n",
       "10884                                          20 to 40%   \n",
       "8602                              \"My birthday is today\"   \n",
       "7926                             Intervening opportunity   \n",
       "\n",
       "                                             option_d answer  \\\n",
       "231                              Not wrong, Not wrong      B   \n",
       "1386   The central line through the axis of rotation.      A   \n",
       "10884                                       10 to 30%      B   \n",
       "8602                                     both A and B      A   \n",
       "7926                                   Territoriality      C   \n",
       "\n",
       "                               id  \n",
       "231          moral_scenarios_test  \n",
       "1386               astronomy_test  \n",
       "10884              nutrition_test  \n",
       "8602       logical_fallacies_test  \n",
       "7926   high_school_geography_test  "
      ]
     },
     "execution_count": 12,
     "metadata": {},
     "output_type": "execute_result"
    }
   ],
   "source": [
    "dataset_path = \"../Datasets/MMLU_completo.xlsx\"\n",
    "\n",
    "df = pd.read_excel(dataset_path)\n",
    "df = df.sample(20) #QUITAR ESTA LÍNEA PARA PROCESAR TODO EL DATASET\n",
    "df.head()"
   ]
  },
  {
   "cell_type": "code",
   "execution_count": 13,
   "metadata": {},
   "outputs": [],
   "source": [
    "categorize_system_prompt = '''\n",
    "Your goal is to evaluate and paraphrase multiple choice questions from JSON objects. You will be provided with a JSON object containing a multiple choice question, and you will output two JSON objects: one with the evaluation of the original question and one with the paraphrased question and its evaluation.\n",
    "\n",
    "For each row, follow these steps:\n",
    "1. Evaluate the original question without paraphrasing.\n",
    "2. Paraphrase the question while maintaining the original meaning, ensuring the paraphrase is at least 500 characters long.\n",
    "3. Forget what you have done so far and exclusively answer the paraphrased question. The answer could be different from the original question, just answer what you think it is.\n",
    "\n",
    "The JSON objects should be in the following format:\n",
    "\n",
    "Original Evaluation:\n",
    "{\n",
    "    answer: string // The selected option key for the original question, limited to 'A', 'B', 'C', or 'D'\n",
    "}\n",
    "\n",
    "Paraphrased Evaluation:\n",
    "{\n",
    "    paraphrased_question: string // The paraphrased question\n",
    "    answer: string // The selected option key for the paraphrased question, limited to 'A', 'B', 'C', or 'D'\n",
    "}\n",
    "\n",
    "Ensure that the question is presented differently but conveys the same idea. Keep the JSON format in the answer with '{' and '}'.\n",
    "'''"
   ]
  },
  {
   "cell_type": "code",
   "execution_count": 14,
   "metadata": {},
   "outputs": [],
   "source": [
    "tasks = []\n",
    "\n",
    "for index, row in df.iterrows():\n",
    "    \n",
    "    # Extraer las columnas necesarias del DataFrame\n",
    "    instruction = row['instruction']\n",
    "    option_a = row['option_a']\n",
    "    option_b = row['option_b']\n",
    "    option_c = row['option_c']\n",
    "    option_d = row['option_d']\n",
    "    \n",
    "    # Formar el JSON con las columnas extraídas\n",
    "    description = json.dumps({\n",
    "        \"instruction\": instruction,\n",
    "        \"options\": {\n",
    "            \"A\": option_a,\n",
    "            \"B\": option_b,\n",
    "            \"C\": option_c,\n",
    "            \"D\": option_d\n",
    "        }\n",
    "    })\n",
    "    \n",
    "    task = {\n",
    "        \"custom_id\": f\"task-{index}\",\n",
    "        \"method\": \"POST\",\n",
    "        \"url\": \"/v1/chat/completions\",\n",
    "        \"body\": {\n",
    "            # Esto es lo que tendrías en tu llamada a la API de Chat Completions\n",
    "            \"model\": \"gpt-4o-mini\",\n",
    "            \"temperature\": 0,\n",
    "            \"response_format\": { \n",
    "                \"type\": \"json_object\"\n",
    "            },\n",
    "            \"messages\": [\n",
    "                {\n",
    "                    \"role\": \"system\",\n",
    "                    \"content\": categorize_system_prompt\n",
    "                },\n",
    "                {\n",
    "                    \"role\": \"user\",\n",
    "                    \"content\": description\n",
    "                }\n",
    "            ],\n",
    "        }\n",
    "    }\n",
    "    \n",
    "    tasks.append(task)"
   ]
  },
  {
   "cell_type": "code",
   "execution_count": 15,
   "metadata": {},
   "outputs": [],
   "source": [
    "# Creating the file\n",
    "\n",
    "file_name = \"batch_tasks_mmlu.jsonl\"\n",
    "\n",
    "with open(file_name, 'w') as file:\n",
    "    for obj in tasks:\n",
    "        file.write(json.dumps(obj) + '\\n')"
   ]
  },
  {
   "cell_type": "code",
   "execution_count": 16,
   "metadata": {},
   "outputs": [],
   "source": [
    "batch_file = client.files.create(\n",
    "  file=open(file_name, \"rb\"),\n",
    "  purpose=\"batch\"\n",
    ")"
   ]
  },
  {
   "cell_type": "code",
   "execution_count": 17,
   "metadata": {},
   "outputs": [
    {
     "name": "stdout",
     "output_type": "stream",
     "text": [
      "FileObject(id='file-UzMNQ9zX84mhnavKkBEveM', bytes=39034, created_at=1739442532, filename='batch_tasks_mmlu.jsonl', object='file', purpose='batch', status='processed', status_details=None)\n"
     ]
    }
   ],
   "source": [
    "print(batch_file)"
   ]
  },
  {
   "cell_type": "code",
   "execution_count": 18,
   "metadata": {},
   "outputs": [],
   "source": [
    "batch_job = client.batches.create(\n",
    "  input_file_id=batch_file.id,\n",
    "  endpoint=\"/v1/chat/completions\",\n",
    "  completion_window=\"24h\"\n",
    ")"
   ]
  },
  {
   "cell_type": "code",
   "execution_count": 19,
   "metadata": {},
   "outputs": [
    {
     "name": "stdout",
     "output_type": "stream",
     "text": [
      "Batch(id='batch_67adc96c238c81909986f649fe3f55d3', completion_window='24h', created_at=1739442540, endpoint='/v1/chat/completions', input_file_id='file-UzMNQ9zX84mhnavKkBEveM', object='batch', status='in_progress', cancelled_at=None, cancelling_at=None, completed_at=None, error_file_id=None, errors=None, expired_at=None, expires_at=1739528940, failed_at=None, finalizing_at=None, in_progress_at=1739442540, metadata=None, output_file_id=None, request_counts=BatchRequestCounts(completed=0, failed=0, total=20))\n"
     ]
    }
   ],
   "source": [
    "batch_job = client.batches.retrieve(batch_job.id)\n",
    "print(batch_job)"
   ]
  },
  {
   "cell_type": "code",
   "execution_count": 77,
   "metadata": {},
   "outputs": [
    {
     "name": "stdout",
     "output_type": "stream",
     "text": [
      "Batch cancelado exitosamente.\n",
      "Detalles del Batch:\n",
      "{'id': 'batch_67ac5f7126fc8190b38b532d1e6b1e92', 'object': 'batch', 'endpoint': '/v1/chat/completions', 'errors': None, 'input_file_id': 'file-Pmz3jWtDzE4sDS3yAV6fj1', 'completion_window': '24h', 'status': 'cancelling', 'output_file_id': None, 'error_file_id': None, 'created_at': 1739349873, 'in_progress_at': 1739349877, 'expires_at': 1739436273, 'finalizing_at': None, 'completed_at': None, 'failed_at': None, 'expired_at': None, 'cancelling_at': 1739350556, 'cancelled_at': None, 'request_counts': {'total': 14042, 'completed': 0, 'failed': 0}, 'metadata': None}\n"
     ]
    }
   ],
   "source": [
    "#PARA CANCELAR UN BATCH\n",
    "# # ID del batch que deseas cancelar\n",
    "# batch_id = batch_job.id\n",
    "\n",
    "# # URL para cancelar el batch\n",
    "# url = f\"https://api.openai.com/v1/batches/{batch_id}/cancel\"\n",
    "\n",
    "# # Encabezados de la solicitud\n",
    "# headers = {\n",
    "#     \"Authorization\": f\"Bearer {api_key}\",\n",
    "#     \"Content-Type\": \"application/json\",\n",
    "# }\n",
    "\n",
    "# # Realiza la solicitud POST para cancelar el batch\n",
    "# response = requests.post(url, headers=headers)\n",
    "\n",
    "# # Maneja la respuesta\n",
    "# if response.status_code == 200:\n",
    "#     data = response.json()\n",
    "#     print(\"Batch cancelado exitosamente.\")\n",
    "#     print(\"Detalles del Batch:\")\n",
    "#     print(data)\n",
    "# else:\n",
    "#     print(f\"Error al cancelar el batch: {response.status_code}\")\n",
    "#     print(response.text)"
   ]
  },
  {
   "cell_type": "code",
   "execution_count": 7,
   "metadata": {},
   "outputs": [],
   "source": [
    "result_file_id = batch_job.output_file_id\n",
    "result = client.files.content(result_file_id).content"
   ]
  },
  {
   "cell_type": "code",
   "execution_count": 8,
   "metadata": {},
   "outputs": [],
   "source": [
    "result_file_name = \"batch_job_results_mmlu.jsonl\"\n",
    "\n",
    "with open(result_file_name, 'wb') as file:\n",
    "    file.write(result)"
   ]
  }
 ],
 "metadata": {
  "kernelspec": {
   "display_name": "Python 3",
   "language": "python",
   "name": "python3"
  },
  "language_info": {
   "codemirror_mode": {
    "name": "ipython",
    "version": 3
   },
   "file_extension": ".py",
   "mimetype": "text/x-python",
   "name": "python",
   "nbconvert_exporter": "python",
   "pygments_lexer": "ipython3",
   "version": "3.12.2"
  }
 },
 "nbformat": 4,
 "nbformat_minor": 2
}
