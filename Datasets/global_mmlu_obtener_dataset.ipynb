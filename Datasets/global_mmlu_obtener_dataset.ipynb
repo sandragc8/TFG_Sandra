{
 "cells": [
  {
   "cell_type": "code",
   "execution_count": 1,
   "metadata": {},
   "outputs": [
    {
     "name": "stdout",
     "output_type": "stream",
     "text": [
      "Requirement already satisfied: pandas in /Library/Frameworks/Python.framework/Versions/3.12/lib/python3.12/site-packages (2.2.3)\n",
      "Requirement already satisfied: numpy>=1.26.0 in /Library/Frameworks/Python.framework/Versions/3.12/lib/python3.12/site-packages (from pandas) (1.26.4)\n",
      "Requirement already satisfied: python-dateutil>=2.8.2 in /Users/sandra/Library/Python/3.12/lib/python/site-packages (from pandas) (2.9.0.post0)\n",
      "Requirement already satisfied: pytz>=2020.1 in /Library/Frameworks/Python.framework/Versions/3.12/lib/python3.12/site-packages (from pandas) (2024.1)\n",
      "Requirement already satisfied: tzdata>=2022.7 in /Library/Frameworks/Python.framework/Versions/3.12/lib/python3.12/site-packages (from pandas) (2024.1)\n",
      "Requirement already satisfied: six>=1.5 in /Users/sandra/Library/Python/3.12/lib/python/site-packages (from python-dateutil>=2.8.2->pandas) (1.16.0)\n",
      "\n",
      "\u001b[1m[\u001b[0m\u001b[34;49mnotice\u001b[0m\u001b[1;39;49m]\u001b[0m\u001b[39;49m A new release of pip is available: \u001b[0m\u001b[31;49m24.3.1\u001b[0m\u001b[39;49m -> \u001b[0m\u001b[32;49m25.0\u001b[0m\n",
      "\u001b[1m[\u001b[0m\u001b[34;49mnotice\u001b[0m\u001b[1;39;49m]\u001b[0m\u001b[39;49m To update, run: \u001b[0m\u001b[32;49mpip install --upgrade pip\u001b[0m\n",
      "Requirement already satisfied: python-dotenv in /Library/Frameworks/Python.framework/Versions/3.12/lib/python3.12/site-packages (1.0.1)\n",
      "\n",
      "\u001b[1m[\u001b[0m\u001b[34;49mnotice\u001b[0m\u001b[1;39;49m]\u001b[0m\u001b[39;49m A new release of pip is available: \u001b[0m\u001b[31;49m24.3.1\u001b[0m\u001b[39;49m -> \u001b[0m\u001b[32;49m25.0\u001b[0m\n",
      "\u001b[1m[\u001b[0m\u001b[34;49mnotice\u001b[0m\u001b[1;39;49m]\u001b[0m\u001b[39;49m To update, run: \u001b[0m\u001b[32;49mpip install --upgrade pip\u001b[0m\n",
      "Requirement already satisfied: matplotlib in /Library/Frameworks/Python.framework/Versions/3.12/lib/python3.12/site-packages (3.8.4)\n",
      "Requirement already satisfied: contourpy>=1.0.1 in /Library/Frameworks/Python.framework/Versions/3.12/lib/python3.12/site-packages (from matplotlib) (1.2.1)\n",
      "Requirement already satisfied: cycler>=0.10 in /Library/Frameworks/Python.framework/Versions/3.12/lib/python3.12/site-packages (from matplotlib) (0.12.1)\n",
      "Requirement already satisfied: fonttools>=4.22.0 in /Library/Frameworks/Python.framework/Versions/3.12/lib/python3.12/site-packages (from matplotlib) (4.51.0)\n",
      "Requirement already satisfied: kiwisolver>=1.3.1 in /Library/Frameworks/Python.framework/Versions/3.12/lib/python3.12/site-packages (from matplotlib) (1.4.5)\n",
      "Requirement already satisfied: numpy>=1.21 in /Library/Frameworks/Python.framework/Versions/3.12/lib/python3.12/site-packages (from matplotlib) (1.26.4)\n",
      "Requirement already satisfied: packaging>=20.0 in /Users/sandra/Library/Python/3.12/lib/python/site-packages (from matplotlib) (24.0)\n",
      "Requirement already satisfied: pillow>=8 in /Library/Frameworks/Python.framework/Versions/3.12/lib/python3.12/site-packages (from matplotlib) (10.3.0)\n",
      "Requirement already satisfied: pyparsing>=2.3.1 in /Library/Frameworks/Python.framework/Versions/3.12/lib/python3.12/site-packages (from matplotlib) (3.1.2)\n",
      "Requirement already satisfied: python-dateutil>=2.7 in /Users/sandra/Library/Python/3.12/lib/python/site-packages (from matplotlib) (2.9.0.post0)\n",
      "Requirement already satisfied: six>=1.5 in /Users/sandra/Library/Python/3.12/lib/python/site-packages (from python-dateutil>=2.7->matplotlib) (1.16.0)\n",
      "\n",
      "\u001b[1m[\u001b[0m\u001b[34;49mnotice\u001b[0m\u001b[1;39;49m]\u001b[0m\u001b[39;49m A new release of pip is available: \u001b[0m\u001b[31;49m24.3.1\u001b[0m\u001b[39;49m -> \u001b[0m\u001b[32;49m25.0\u001b[0m\n",
      "\u001b[1m[\u001b[0m\u001b[34;49mnotice\u001b[0m\u001b[1;39;49m]\u001b[0m\u001b[39;49m To update, run: \u001b[0m\u001b[32;49mpip install --upgrade pip\u001b[0m\n",
      "Requirement already satisfied: openpyxl in /Library/Frameworks/Python.framework/Versions/3.12/lib/python3.12/site-packages (3.1.2)\n",
      "Requirement already satisfied: et-xmlfile in /Library/Frameworks/Python.framework/Versions/3.12/lib/python3.12/site-packages (from openpyxl) (1.1.0)\n",
      "\n",
      "\u001b[1m[\u001b[0m\u001b[34;49mnotice\u001b[0m\u001b[1;39;49m]\u001b[0m\u001b[39;49m A new release of pip is available: \u001b[0m\u001b[31;49m24.3.1\u001b[0m\u001b[39;49m -> \u001b[0m\u001b[32;49m25.0\u001b[0m\n",
      "\u001b[1m[\u001b[0m\u001b[34;49mnotice\u001b[0m\u001b[1;39;49m]\u001b[0m\u001b[39;49m To update, run: \u001b[0m\u001b[32;49mpip install --upgrade pip\u001b[0m\n"
     ]
    }
   ],
   "source": [
    "!pip install pandas\n",
    "!pip install python-dotenv\n",
    "!pip install matplotlib\n",
    "!pip install openpyxl"
   ]
  },
  {
   "cell_type": "code",
   "execution_count": 4,
   "metadata": {},
   "outputs": [],
   "source": [
    "from datasets import load_dataset\n",
    "import pandas as pd\n",
    "\n",
    "\n",
    "# load HF dataset\n",
    "gmmlu_lite = load_dataset(\"CohereForAI/Global-MMLU-Lite\", 'en')\n",
    "\n",
    "# can also be used as pandas dataframe\n",
    "gmmlu_lite.set_format(\"pandas\")\n",
    "gmmlu_lite_test = gmmlu_lite['test'][:]\n",
    "gmmlu_lite_dev = gmmlu_lite['dev'][:]\n"
   ]
  },
  {
   "cell_type": "code",
   "execution_count": 5,
   "metadata": {},
   "outputs": [
    {
     "name": "stdout",
     "output_type": "stream",
     "text": [
      "Dataset guardado en 'gmmlu_lite_test.xlsx'.\n"
     ]
    }
   ],
   "source": [
    "output_file = \"gmmlu_lite_test.xlsx\"\n",
    "gmmlu_lite_test.to_excel(output_file, index=False)\n",
    "\n",
    "print(f\"Dataset guardado en '{output_file}'.\")"
   ]
  },
  {
   "cell_type": "code",
   "execution_count": 7,
   "metadata": {},
   "outputs": [
    {
     "name": "stderr",
     "output_type": "stream",
     "text": [
      "Generating test split: 100%|██████████| 400/400 [00:00<00:00, 59801.16 examples/s]\n",
      "Generating dev split: 100%|██████████| 215/215 [00:00<00:00, 46627.47 examples/s]\n",
      "Generating test split: 100%|██████████| 400/400 [00:00<00:00, 66634.43 examples/s]\n",
      "Generating dev split: 100%|██████████| 215/215 [00:00<00:00, 41077.55 examples/s]\n",
      "Generating test split: 100%|██████████| 400/400 [00:00<00:00, 70297.56 examples/s]\n",
      "Generating dev split: 100%|██████████| 215/215 [00:00<00:00, 54017.93 examples/s]\n",
      "Generating test split: 100%|██████████| 400/400 [00:00<00:00, 78171.73 examples/s]\n",
      "Generating dev split: 100%|██████████| 215/215 [00:00<00:00, 41055.10 examples/s]\n",
      "Generating test split: 100%|██████████| 400/400 [00:00<00:00, 64744.40 examples/s]\n",
      "Generating dev split: 100%|██████████| 215/215 [00:00<00:00, 54196.49 examples/s]\n",
      "Generating test split: 100%|██████████| 400/400 [00:00<00:00, 69456.49 examples/s]\n",
      "Generating dev split: 100%|██████████| 215/215 [00:00<00:00, 50330.71 examples/s]\n",
      "Generating test split: 100%|██████████| 400/400 [00:00<00:00, 78077.14 examples/s]\n",
      "Generating dev split: 100%|██████████| 215/215 [00:00<00:00, 52538.76 examples/s]\n",
      "Generating test split: 100%|██████████| 400/400 [00:00<00:00, 68105.93 examples/s]\n",
      "Generating dev split: 100%|██████████| 215/215 [00:00<00:00, 55868.62 examples/s]\n",
      "Generating test split: 100%|██████████| 400/400 [00:00<00:00, 103435.36 examples/s]\n",
      "Generating dev split: 100%|██████████| 215/215 [00:00<00:00, 75437.12 examples/s]\n",
      "Generating test split: 100%|██████████| 400/400 [00:00<00:00, 74065.05 examples/s]\n",
      "Generating dev split: 100%|██████████| 215/215 [00:00<00:00, 53587.79 examples/s]\n"
     ]
    }
   ],
   "source": [
    "from datasets import load_dataset\n",
    "import pandas as pd\n",
    "\n",
    "# Lista de idiomas disponibles en el dataset\n",
    "languages = [\n",
    "    'ar', 'bn', 'de', 'en', 'fr', 'hi', 'id', 'it', 'ja',\n",
    "    'ko', 'pt', 'es', 'sw', 'yo', 'zh'\n",
    "]\n",
    "# Crear un archivo Excel con cada idioma en una hoja\n",
    "with pd.ExcelWriter(\"Global-MMLU-Lite.xlsx\") as writer:\n",
    "    for lang in languages:\n",
    "        # Cargar el dataset para el idioma actual\n",
    "        dataset = load_dataset(\"CohereForAI/Global-MMLU-Lite\", lang)\n",
    "        \n",
    "        # Convertir las particiones (test y dev) a DataFrames\n",
    "        test_df = dataset['test'].to_pandas()\n",
    "        dev_df = dataset['dev'].to_pandas()\n",
    "        \n",
    "        # Guardar en hojas separadas por idioma y partición\n",
    "        test_df.to_excel(writer, sheet_name=f\"{lang}_test\", index=False)\n",
    "        dev_df.to_excel(writer, sheet_name=f\"{lang}_dev\", index=False)\n"
   ]
  }
 ],
 "metadata": {
  "kernelspec": {
   "display_name": "Python 3",
   "language": "python",
   "name": "python3"
  },
  "language_info": {
   "codemirror_mode": {
    "name": "ipython",
    "version": 3
   },
   "file_extension": ".py",
   "mimetype": "text/x-python",
   "name": "python",
   "nbconvert_exporter": "python",
   "pygments_lexer": "ipython3",
   "version": "3.12.2"
  }
 },
 "nbformat": 4,
 "nbformat_minor": 2
}
