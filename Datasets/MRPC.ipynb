{
 "cells": [
  {
   "cell_type": "code",
   "execution_count": 2,
   "metadata": {},
   "outputs": [
    {
     "name": "stdout",
     "output_type": "stream",
     "text": [
      "Requirement already satisfied: pandas in /Library/Frameworks/Python.framework/Versions/3.12/lib/python3.12/site-packages (2.2.3)\n",
      "Requirement already satisfied: numpy>=1.26.0 in /Library/Frameworks/Python.framework/Versions/3.12/lib/python3.12/site-packages (from pandas) (2.0.2)\n",
      "Requirement already satisfied: python-dateutil>=2.8.2 in /Users/sandra/Library/Python/3.12/lib/python/site-packages (from pandas) (2.9.0.post0)\n",
      "Requirement already satisfied: pytz>=2020.1 in /Library/Frameworks/Python.framework/Versions/3.12/lib/python3.12/site-packages (from pandas) (2024.1)\n",
      "Requirement already satisfied: tzdata>=2022.7 in /Library/Frameworks/Python.framework/Versions/3.12/lib/python3.12/site-packages (from pandas) (2024.1)\n",
      "Requirement already satisfied: six>=1.5 in /Users/sandra/Library/Python/3.12/lib/python/site-packages (from python-dateutil>=2.8.2->pandas) (1.16.0)\n",
      "ERROR: unknown command \"isntall\" - maybe you meant \"install\"\n",
      "Requirement already satisfied: openpyxl in /Library/Frameworks/Python.framework/Versions/3.12/lib/python3.12/site-packages (3.1.2)\n",
      "Requirement already satisfied: et-xmlfile in /Library/Frameworks/Python.framework/Versions/3.12/lib/python3.12/site-packages (from openpyxl) (1.1.0)\n"
     ]
    }
   ],
   "source": [
    "!pip install pandas\n",
    "!pip isntall datasets\n",
    "!pip install openpyxl"
   ]
  },
  {
   "cell_type": "code",
   "execution_count": 3,
   "metadata": {},
   "outputs": [
    {
     "name": "stderr",
     "output_type": "stream",
     "text": [
      "/Library/Frameworks/Python.framework/Versions/3.12/lib/python3.12/site-packages/tqdm/auto.py:21: TqdmWarning: IProgress not found. Please update jupyter and ipywidgets. See https://ipywidgets.readthedocs.io/en/stable/user_install.html\n",
      "  from .autonotebook import tqdm as notebook_tqdm\n"
     ]
    }
   ],
   "source": [
    "from datasets import load_dataset\n",
    "import pandas as pd\n",
    "\n",
    "# Carga el dataset MRPC\n",
    "dataset = load_dataset(\"glue\", \"mrpc\")\n",
    "\n",
    "# Selecciona el conjunto de entrenamiento\n",
    "train_data = dataset['train'].to_pandas()\n",
    "test_data = dataset['test'].to_pandas()\n",
    "\n",
    "# Guarda en formato CSV\n",
    "train_data.to_csv(\"mrpc_train.csv\", index=False)\n",
    "# test_data.to_csv(\"mrpc_test.csv\", index=False)\n"
   ]
  },
  {
   "cell_type": "code",
   "execution_count": 3,
   "metadata": {},
   "outputs": [],
   "source": [
    "# Leer el fichero CSV\n",
    "df = pd.read_csv(\"mrpc_train.csv\")\n",
    "\n",
    "# Filtrar las filas donde la etiqueta sea 1\n",
    "filtered_df = df[df['label'] == 0]\n",
    "\n",
    "# Seleccionar solo las columnas 'sentence1' y 'sentence2'\n",
    "selected_columns_df = filtered_df[['sentence1', 'sentence2']]\n",
    "selected_columns_df = selected_columns_df.rename(columns={'sentence1': 'Pregunta original', 'sentence2': 'Pregunta parafraseada'})\n",
    "\n",
    "\n",
    "# Guardar el DataFrame resultante en un archivo Excel\n",
    "selected_columns_df.to_excel(\"filtered_mrpc_train_not_paraphrases.xlsx\", index=False)"
   ]
  },
  {
   "cell_type": "code",
   "execution_count": 4,
   "metadata": {},
   "outputs": [
    {
     "name": "stdout",
     "output_type": "stream",
     "text": [
      "Archivo transformado guardado como: archivo_transformado.xlsx\n"
     ]
    }
   ],
   "source": [
    "# Cargar el archivo original (cambiar \"input_file.xlsx\" por el nombre real del archivo)\n",
    "input_file = \"filtered_mrpc_train.xlsx\"  # Reemplaza con tu archivo\n",
    "output_file = \"archivo_transformado.xlsx\"  # Nombre del nuevo archivo\n",
    "\n",
    "# Leer el archivo Excel\n",
    "df_original = pd.read_excel(input_file)\n",
    "\n",
    "# Crear un nuevo DataFrame con las columnas necesarias\n",
    "df_transformado = pd.DataFrame()\n",
    "\n",
    "# Rellenar las columnas requeridas\n",
    "df_transformado['instruction'] = df_original['Pregunta original']  # Copiar columna original como \"instruction\"\n",
    "df_transformado['option_a'] = 0  # Rellenar con 0\n",
    "df_transformado['option_b'] = 0  # Rellenar con 0\n",
    "df_transformado['option_c'] = 0  # Rellenar con 0\n",
    "df_transformado['option_d'] = 0  # Rellenar con 0\n",
    "df_transformado['answer'] = 0    # Rellenar con 0 (puedes cambiar esto si es necesario)\n",
    "df_transformado['id'] = range(1, len(df_transformado) + 1)  # Crear IDs consecutivos\n",
    "\n",
    "# Guardar el nuevo archivo Excel con la hoja llamada \"en\"\n",
    "with pd.ExcelWriter(output_file) as writer:\n",
    "    df_transformado.to_excel(writer, sheet_name=\"en\", index=False)\n",
    "\n",
    "print(f\"Archivo transformado guardado como: {output_file}\")"
   ]
  }
 ],
 "metadata": {
  "kernelspec": {
   "display_name": "Python 3",
   "language": "python",
   "name": "python3"
  },
  "language_info": {
   "codemirror_mode": {
    "name": "ipython",
    "version": 3
   },
   "file_extension": ".py",
   "mimetype": "text/x-python",
   "name": "python",
   "nbconvert_exporter": "python",
   "pygments_lexer": "ipython3",
   "version": "3.12.2"
  }
 },
 "nbformat": 4,
 "nbformat_minor": 2
}
